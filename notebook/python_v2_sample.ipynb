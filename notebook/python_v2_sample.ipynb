{
 "cells": [
  {
   "cell_type": "code",
   "execution_count": 1,
   "id": "b3f20a30-10dc-403e-b48e-70f4ec2c6da2",
   "metadata": {},
   "outputs": [
    {
     "name": "stdout",
     "output_type": "stream",
     "text": [
      "No module named 'monotonic'\n",
      "NEO4J INIT ERROR\n",
      "No module named 'monotonic'\n",
      "NEO4J INIT ERROR\n"
     ]
    }
   ],
   "source": [
    "import sys\n",
    "import os\n",
    "baseDir = os.path.dirname(os.getcwd())\n",
    "sys.path.append(os.path.join(baseDir, 'python_v2'))\n",
    "sys.path.append(os.path.join(baseDir, 'python_v2', 'metrics'))\n",
    "sys.path.append(os.path.join(baseDir, 'python_v2', 'db'))\n",
    "from open_digger import openDigger\n",
    "# from open_digger import clickhouse\n",
    "# db_driver = openDigger().driver()\n",
    "# _clickhouse = db_driver.clickhouse\n",
    "# _neo4j = db_driver.neo4j\n"
   ]
  },
  {
   "cell_type": "code",
   "execution_count": 2,
   "id": "d47b28d0-5df6-4ec0-af29-3fa6f27f4828",
   "metadata": {},
   "outputs": [],
   "source": [
    "options = {\n",
    "    'orgIds': [1342004],\n",
    "    'limit': 3,\n",
    "    'startYear': 2015,\n",
    "    'endYear': 2016,\n",
    "    'startMonth': 1,\n",
    "    'endMonth': 12,\n",
    "    'order': 'DESC',\n",
    "    'groupTimeRange': 'year'\n",
    "}\n"
   ]
  },
  {
   "cell_type": "code",
   "execution_count": 3,
   "id": "abad6bd2",
   "metadata": {},
   "outputs": [
    {
     "name": "stdout",
     "output_type": "stream",
     "text": [
      "No module named 'monotonic'\n",
      "NEO4J INIT ERROR\n"
     ]
    }
   ],
   "source": [
    "openDigger = openDigger()"
   ]
  },
  {
   "cell_type": "code",
   "execution_count": 4,
   "id": "fd46bc37",
   "metadata": {},
   "outputs": [
    {
     "name": "stdout",
     "output_type": "stream",
     "text": [
      "[{'id': 9304637, 'name': 'google/ggrc-core', 'total_count': 10261, 'count': [4336, 5925]}, {'id': 19249835, 'name': 'google/WebFundamentals', 'total_count': 8165, 'count': [3667, 4498]}, {'id': 51965089, 'name': 'google/amphtml', 'total_count': 4314, 'count': [0, 4314]}]\n"
     ]
    }
   ],
   "source": [
    "x,y = openDigger.metric.chaoss.chaossCodeChangeCommits(options, mode='origin')\n",
    "x,y = openDigger.metric.chaoss.chaossCodeChangeCommits(options)\n",
    "print(x)"
   ]
  },
  {
   "cell_type": "code",
   "execution_count": 25,
   "id": "8816fed6",
   "metadata": {},
   "outputs": [
    {
     "name": "stdout",
     "output_type": "stream",
     "text": [
      "\n",
      "        SELECT\n",
      "            id,\n",
      "            argMax(name, time) AS name,\n",
      "            groupArrayInsertAt(\n",
      "            [], \n",
      "            toUInt32(dateDiff('year', toDate('2015-1-1'), toDate('2016-12-1'))) + 1)(count, \n",
      "            toUInt32(dateDiff('year', toStartOfYear(toDate('2015-1-1')), time))) AS count\n",
      "        FROM\n",
      "        (\n",
      "            SELECT id, argMax(name, time) AS name, time, arrayMap(x -> x, \n",
      "                    groupArrayInsertAt(0, 168)(count, toUInt32((day - 1) * 24 + hour))) AS count\n",
      "            FROM\n",
      "            (\n",
      "                SELECT\n",
      "                toStartOfYear(created_at) AS time,\n",
      "                repo_id AS id, argMax(repo_name, time) AS name,\n",
      "                toHour(created_at) AS hour,\n",
      "                toDayOfWeek(created_at) AS day,\n",
      "                COUNT() AS count\n",
      "                FROM opensource.gh_events\n",
      "                WHERE  created_at >= toDate('2015-1-1') AND created_at < toDate('2017-1-1')  AND (org_id IN [1342004])\n",
      "                GROUP BY id, time, hour, day\n",
      "                ORDER BY day, hour\n",
      "            )\n",
      "            GROUP BY id, time\n",
      "            \n",
      "        )\n",
      "        GROUP BY id\n",
      "        ORDER BY count[-1][1] DESC LIMIT 3\n",
      "        \n"
     ]
    }
   ],
   "source": [
    "print(y)"
   ]
  },
  {
   "cell_type": "code",
   "execution_count": 5,
   "id": "22a163f5",
   "metadata": {},
   "outputs": [
    {
     "name": "stdout",
     "output_type": "stream",
     "text": [
      "[{'id': 29268051, 'name': 'google/material-design-lite', 'total_count': 3376, 'count': [1382, 1994], 'ratio': ['40.94%', '59.06%']}, {'id': 20818126, 'name': 'google/ExoPlayer', 'total_count': 1788, 'count': [740, 1048], 'ratio': ['41.39%', '58.61%']}, {'id': 23357588, 'name': 'google/protobuf', 'total_count': 1193, 'count': [425, 768], 'ratio': ['35.62%', '64.38%']}]\n"
     ]
    }
   ],
   "source": [
    "x,y = openDigger.metric.chaoss.chaossIssuesNew(options, mode='origin')\n",
    "x,y = openDigger.metric.chaoss.chaossIssuesNew(options)\n",
    "print(x)"
   ]
  },
  {
   "cell_type": "code",
   "execution_count": 6,
   "id": "c0a68788",
   "metadata": {},
   "outputs": [
    {
     "name": "stdout",
     "output_type": "stream",
     "text": [
      "[{'id': 9304637, 'name': 'google/ggrc-core', 'total_count': 10261, 'count': [4336, 5925]}, {'id': 19249835, 'name': 'google/WebFundamentals', 'total_count': 8165, 'count': [3667, 4498]}, {'id': 51965089, 'name': 'google/amphtml', 'total_count': 4314, 'count': [0, 4314]}]\n"
     ]
    }
   ],
   "source": [
    "\n",
    "x,y = openDigger.metric.chaoss.chaossCodeChangeCommits(options, mode='origin')\n",
    "x,y = openDigger.metric.chaoss.chaossCodeChangeCommits(options)\n",
    "print(x)"
   ]
  },
  {
   "cell_type": "code",
   "execution_count": 7,
   "id": "bdd2667e",
   "metadata": {},
   "outputs": [
    {
     "name": "stdout",
     "output_type": "stream",
     "text": [
      "[{'id': 20818126, 'name': 'google/ExoPlayer', 'total_count': 1631, 'count': [581, 1050], 'ratio': ['35.62%', '64.38%']}, {'id': 29268051, 'name': 'google/material-design-lite', 'total_count': 1408, 'count': [680, 728], 'ratio': ['48.30%', '51.70%']}, {'id': 19249835, 'name': 'google/WebFundamentals', 'total_count': 1342, 'count': [702, 640], 'ratio': ['52.31%', '47.69%']}]\n"
     ]
    }
   ],
   "source": [
    "x,y = openDigger.metric.chaoss.chaossIssuesClosed(options, mode='origin')\n",
    "x,y = openDigger.metric.chaoss.chaossIssuesClosed(options)\n",
    "print(x)"
   ]
  },
  {
   "cell_type": "code",
   "execution_count": 8,
   "id": "7673c9ae",
   "metadata": {},
   "outputs": [
    {
     "name": "stdout",
     "output_type": "stream",
     "text": [
      "[{'id': 29268051, 'name': 'google/material-design-lite', 'bus_factor': [260, 638], 'detail': [[('nickretallack', 6), ('vasiliy-pdk', 3), ('svenjuhnke', 3), ('axxg', 4), ('Ninir', 5), ('paran0a', 3), ('eduardoboucas', 4), ('hkminegod', 4), ('steven-qi', 5), ('akashnimare', 3), ('adamchacha', 8), ('jericbryledy', 3), ('pho3nixf1re', 3), ('johnsonium', 3), ('cdiener', 3), ('sanjay1688', 3), ('jfily', 7), ('jonathanp', 3), ('lastid', 4), ('webcss', 5), ('makbaldwin1', 4), ('jonesmith261', 9), ('kowdermeister', 3), ('rpominov', 4), ('lepinejf', 3), ('smcardle', 4), ('krazyeom', 4), ('jasonmayes', 7), ('gertcuykens', 4), ('romannurik', 4), ('webmaven', 5), ('Shyam-Chen', 3), ('7immy', 3), ('mibcadet', 3), ('skvale', 4), ('kushdilip', 3), ('Eliezer-Pujols', 3), ('tiberiugrabanyseo', 19), ('davidshen84', 3), ('glebm', 3), ('JoseAlcerreca', 3), ('ShadeLotus', 3), ('codeandrop', 3), ('seanmavley', 3), ('santokii', 5), ('fatihkahveci', 4), ('MarcosGalaviz', 3), ('jalajc', 3), ('sqrrrl', 3), ('seyedi', 3), ('NicolasJEngler', 3), ('kelsmj', 3), ('laetitiacasta117', 16), ('yamalight', 3), ('olegt-indicee', 3), ('craigklem', 4), ('braeden123', 3), ('tschiela', 7), ('alexbel', 3), ('gauntface', 8), ('crhym3', 10), ('reel', 3), ('rohanthacker', 7), ('mgiuca', 3), ('samccone', 19), ('tayiorbeii', 3), ('EHLOVader', 3), ('eggboxio', 3), ('NathanielHill', 3), ('simodorg', 3), ('jelbourn', 3), ('mateuspv', 3), ('RichardLindhout', 3), ('filippomartini', 4), ('noilly', 3), ('ArielAbreu', 3), ('AliMD', 4), ('yourivdlans', 3), ('djalmaaraujo', 6), ('patrick-jones', 3), ('rhroyston', 4), ('sindresorhus', 9), ('martinjohnseo', 9), ('gs-akhan', 4), ('PatrickOgilvie', 4), ('kengruven', 4), ('cliffordp', 7), ('oddui', 4), ('shyndman', 3), ('MightyBranch', 3), ('mrfaizanhaider', 3), ('koddsson', 4), ('uplusion23', 3), ('domio', 3), ('biwin', 4), ('rj33', 6), ('langan', 5), ('cubicwork', 3), ('samadmoizc8', 3), ('OliverJAsh', 3), ('tomatau', 4), ('SnaKKo', 3), ('listepo', 3), ('dflorey', 4), ('sgomes', 30), ('urbanvikingr', 4), ('CyanoFresh', 3), ('Yamavu', 3), ('hannespreishuber', 5), ('samthor', 11), ('zuhairnaqvi', 3), ('ameliabell702', 8), ('marcacohen', 5), ('DarienFord', 3), ('foo-baar', 5), ('mariusbutuc', 3), ('remkoboschker', 3), ('drublic', 4), ('yuyokk', 6), ('cainmi', 6), ('stunaz', 4), ('jjalonso', 4), ('flying-sheep', 5), ('jh3y', 5), ('SeanBannister', 10), ('peluprvi', 3), ('rzr999', 4), ('janpieterz', 4), ('laicosly', 3), ('innerpeace0', 7), ('sujithgokul', 3), ('noah2828', 3), ('roysina33230', 12), ('duyluandethuong', 3), ('mukilane', 3), ('kingstenbanh', 6), ('kitgrose', 3), ('alitas', 3), ('mikeymckay', 3), ('raeesiqbal', 3), ('nobitakun', 3), ('MikeMitterer', 5), ('joshq00', 4), ('clemf', 3), ('web2style', 5), ('ovaskevich', 3), ('DanTup', 3), ('HenriqueLimas', 4), ('liddellj', 3), ('insanehong', 3), ('kentya6', 3), ('morlay', 3), ('Zodiase', 12), ('mweimerskirch', 5), ('mfonville', 3), ('googlebot', 12), ('contra', 4), ('rafaelstz', 3), ('michel-zimmer', 3), ('jonathanprehn', 3), ('Deilv', 3), ('liuyuanhuo', 4), ('surma', 41), ('jeanmatthieud', 3), ('gijskooij', 3), ('faergeek', 6), ('nicolasgarnier', 17), ('xdissent', 4), ('genadis', 3), ('mustafa-x', 6), ('Nils-Kolvenbach', 3), ('skozz', 3), ('RobLoach', 3), ('alien3d', 4), ('hobbyquaker', 3), ('titlescreen', 3), ('apollo13', 3), ('hargravej554', 4), ('vose2008', 3), ('OmniaOmega', 3), ('tleunen', 10), ('jorrit', 4), ('yan-foto', 4), ('peiche', 4), ('gjuchault', 4), ('salamanders', 3), ('alextekartik', 4), ('Brahmasmi', 3), ('SuicSoft', 4), ('gustalima', 3), ('mateeyow', 4), ('passy', 4), ('dstaley', 3), ('sdcinglis', 3), ('LCallaghan84', 4), ('dengere', 3), ('Jabher', 3), ('The4thLaw', 4), ('Andy561', 3), ('danielhickman', 3), ('listedegarde', 3), ('Swatinem', 3), ('andyyou', 4), ('herschel666', 3), ('weiway', 3), ('srsgores', 3), ('skaxwng', 3), ('Garbee', 45), ('virtyaluk', 6), ('JhoongRoh', 3), ('Gheoan', 5), ('f3yisayo', 3), ('ccarsona', 3), ('woodswaterseo', 4), ('Frozenfire92', 3), ('jgoux', 3), ('nkpgardose', 4), ('epeay', 3), ('Sam-Hepworth', 3), ('nextlevelshit', 4), ('johndecosta517', 4), ('sika-uma', 3), ('ForsakenNGS', 3), ('posva', 5), ('veged', 4), ('hebbet', 7), ('rogerhu', 5), ('VamosErik88', 3), ('timothylrobb', 3), ('ckashby', 4), ('JacobDorman', 4), ('adaro', 3), ('haschek', 3), ('sevekim', 3), ('yongxu', 3), ('jimbojetlag', 6), ('afonsopacifer', 5), ('kybarg', 8), ('HuaTiMeiTian', 4), ('eziante', 3), ('ytiurin', 3), ('maguowei', 3), ('mayercharlesseo', 4), ('ysfjwd', 3), ('steamonimo', 3), ('garyterry', 3), ('Bound3R', 6), ('narendrashetty', 4), ('Errvald', 4), ('bcbcarl', 3), ('Sesta', 3), ('andismith', 3), ('Darkham666', 3), ('jbellsey', 3), ('jhawlwut', 3), ('mspl13', 4), ('jdepypere', 5), ('dopic', 3), ('addyosmani', 22), ('muten84', 3)], [('wcauchois', 2), ('Exac', 2), ('jasonmayes', 2), ('juanpmarin-infocorp', 2), ('SayChunKim', 2), ('vanburg', 2), ('jhoneandru', 15), ('JonatanSalas', 2), ('ashutoshseo0903', 9), ('Rahul-Sagore', 4), ('troybelwal', 9), ('terlandark', 2), ('nkpgardose', 3), ('dacodekid', 2), ('mewa', 2), ('claide', 2), ('hugufc', 2), ('smithphyllisseo91', 2), ('vo0doO', 2), ('The4thLaw', 2), ('cedlog', 2), ('germn', 2), ('dvas0004', 2), ('JoaquimFernando', 2), ('paramsinghvc', 2), ('katsenkatorz', 2), ('HenriqueLimas', 2), ('raulferras', 2), ('stinovh', 2), ('kbprakash', 2), ('aderbas', 2), ('github-polymer-user', 3), ('Xezient', 2), ('Merovex', 2), ('dturner', 2), ('mh-cbon', 5), ('darwindlrd', 2), ('dadatawajue', 2), ('houwat', 2), ('jlmagee', 2), ('sabrinaluo', 3), ('lamekbig', 2), ('Allanramirez1', 3), ('GianlucaGuarini', 3), ('rj33', 4), ('ai', 2), ('jecisc', 3), ('robdodson', 3), ('joanmaria91', 2), ('CodinCat', 2), ('callahad', 2), ('collapsarzhang', 2), ('MashedPotats', 2), ('Garbee', 42), ('craig-willers', 2), ('Luigi123', 3), ('devilbags', 2), ('trextacy', 2), ('madhukarhere', 2), ('wicky-info', 2), ('paulirish', 2), ('GordonSmith', 2), ('Majiix', 2), ('tommybstitch', 2), ('RenDvila', 3), ('ganeshkbhat', 2), ('greeneva25', 3), ('JimishF', 2), ('EduardoAC', 2), ('rauhs', 3), ('Tetravostre', 2), ('katranci', 3), ('dsebastien', 2), ('hasan3ysf', 2), ('petersenk509', 11), ('Jossnaz', 2), ('coliff', 2), ('kambanwait', 2), ('Ratts704', 2), ('flinxc', 2), ('MitchLillie', 3), ('akotlar', 7), ('FranceBaril', 2), ('LayZeeDK', 5), ('asskct', 2), ('samccone', 6), ('heukirne', 3), ('luizfilipe', 2), ('danieladonna', 2), ('SergeRGravelle', 2), ('ale00', 2), ('bleggett', 2), ('pepelsbey', 2), ('carusogabriel', 2), ('Zodiase', 8), ('mfonville', 5), ('googlebot', 10), ('marketica-co', 2), ('bjfletcher', 2), ('dkebler', 2), ('marcacohen', 3), ('reinhart1010', 2), ('lyngbach', 2), ('DarienFord', 3), ('merken', 3), ('thecoffeehog', 2), ('savanmorya', 2), ('edicarloslds', 2), ('WaverleyDesign', 3), ('maiakaat', 3), ('stark1024', 2), ('SebastianDuval', 2), ('dylanjmcdonald', 2), ('mgalgs', 2), ('udaysinghcode', 2), ('dgrubelic', 11), ('snowcat-Jung', 2), ('Gixx', 3), ('akashbijwe', 2), ('mariusbutuc', 4), ('coladou', 3), ('wharsono1', 2), ('Brian-Ding', 2), ('noinkling', 2), ('VadimDez', 2), ('nikhilnayak98', 2), ('joeblew99', 3), ('appsforartists', 4), ('friksa', 3), ('roythomes2', 4), ('brokenalarms', 2), ('addyosmani', 5), ('ahlechandre', 4), ('juangl', 2), ('puranjayjain', 3), ('wuyukewu', 2), ('gailkrish28', 2), ('anyotherway', 2), ('RudolfVonKrugstein', 2), ('cvrebert', 3), ('anishvmonsy', 2), ('BusoArnaud', 2), ('Foxandxss', 2), ('zhaoweizhong', 4), ('lepatlamass', 2), ('vince8864', 5), ('kitsandkats', 2), ('santiagobasulto', 2), ('shyndman', 5), ('chutyachaker', 5), ('macx', 3), ('Ahmadbaba46', 2), ('gattack', 2), ('TheFinalNothing', 2), ('lancebeaudry', 2), ('jeddy3', 2), ('devm33', 2), ('blobor', 2), ('jswirus', 2), ('neechange', 3), ('kyleledbetter', 2), ('MikeMitterer', 2), ('idy', 2), ('AsherBarak', 2), ('WoLfulus', 2), ('ross-nordstrom', 2), ('haojieirving', 2), ('chrsmith', 2), ('polakson25', 2), ('audiultx', 2), ('RootCrashed', 2), ('shawmanz32na', 3), ('YamiOdymel', 2), ('malonjana25', 2), ('xStrom', 3), ('ProZsolt', 3), ('flint002', 2), ('CyberianIce', 2), ('odedhb', 2), ('DsXack', 2), ('tomhodgins', 2), ('juristr', 3), ('b-kelly', 5), ('Gesparo', 2), ('wzup', 3), ('matm1', 2), ('b-s-v', 3), ('mgamsjager', 2), ('gargullia', 2), ('greeneva849', 4), ('viankakrisna', 2), ('bkroggel', 2), ('mattfinch', 2), ('apetro', 3), ('rekhakumari9563', 6), ('hyperplanes', 2), ('leifoolsen', 11), ('palsoft333', 2), ('amittomer33230', 6), ('alexjlockwood', 2), ('DarkAtra', 2), ('imalitavakoli', 2), ('sfdexter', 9), ('Sungodragon', 2), ('hanyuzhou2006', 4), ('traviskaufman', 44), ('bbashy', 2), ('ashuforweb', 2), ('dubert', 2), ('remkoboschker', 2), ('mkc188', 2), ('nicolausYes', 2), ('Bnlr', 2), ('Sarkie', 2), ('petejohanson', 8), ('oldergod', 2), ('seematalanki', 2), ('nareshmalhotra937', 15), ('strk', 2), ('nikichak', 2), ('homkai', 2), ('farizdev', 2), ('shenzhuxi', 2), ('xSirrioNx', 3), ('pndewit', 4), ('ypresto', 2), ('samcpt', 2), ('eddelbuettel', 3), ('enesunal', 2), ('landed1', 2), ('VaibhavFuke', 2), ('mishrajs', 2), ('lwayne2812', 15), ('igorsantos07', 3), ('skillmapped', 2), ('flyboarder', 4), ('dkemper01', 2), ('wb9688', 3), ('littleswany', 3), ('Jeger', 2), ('johngonzalez', 2), ('dsoldera', 3), ('enniel', 4), ('doness', 2), ('condor0765', 2), ('Inuart', 2), ('sameerpallav', 2), ('onigetoc', 3), ('Download', 3), ('d4nd', 2), ('eruvanos', 2), ('cirdes', 2), ('jordyvandomselaar', 2), ('posva', 4), ('GolanPachu', 2), ('HriBB', 4), ('Jakeh9777', 2), ('mpcallahan', 2), ('khooz', 2), ('jogindermourya', 2), ('MikeiLL', 2), ('sgomes', 42), ('AMDsupreme', 2), ('Walraz', 2), ('RanzQ', 4), ('rubysamurai', 2), ('AmineHamrouni', 2), ('gallagher-stem', 3), ('mseemann', 4), ('mikeazores', 2), ('MikeGWem', 2), ('AlanSmithey', 2), ('sudharsanmit', 2), ('technowar', 2), ('JoaquimFMF', 2), ('zsolt247', 2), ('davidhtims', 2), ('boyum', 2), ('joseaio', 2), ('van-nguyen', 2), ('wasder', 2), ('KeizerDev', 3), ('jestelle', 2), ('yashydv21', 2), ('sstativa', 2), ('andreasonny83', 4), ('davidzchen', 3), ('mchiareli', 2), ('Quemeojose', 2), ('rtarnec', 3), ('aungnyeinmin', 2), ('snitzsch', 3), ('amniskin', 2), ('hr-117', 2), ('stefanuswendy', 2), ('fstanis', 3), ('Shwise', 2), ('leonardor', 2), ('louie113', 3), ('pax', 2), ('carlosmourajunior', 2), ('zachrattner', 2), ('pie0tv', 2), ('westy92', 8), ('tajpure', 2), ('srpf', 2), ('apokusin', 2), ('kengruven', 5), ('oddui', 8), ('ebidel', 2), ('MohammadYounes', 2), ('webmaven', 2), ('Shyam-Chen', 2), ('AnupKumarPanwar', 2), ('newschapmj1', 2), ('mikbry', 2), ('baldram', 2), ('srinivas08', 2), ('MA-Maddin', 2), ('jiaming10', 2), ('varaprashanth', 2), ('filipedelimabrito', 2), ('j-elmer123', 2), ('deuxcents', 4), ('anirudhb', 4), ('AlexanderOtavka', 4), ('ThiagoT1', 2), ('DanTup', 4), ('redbmk', 2), ('art-moderator', 3), ('Tsolmon1', 2), ('itamaro', 2), ('Havret', 2), ('Taakn', 3), ('crazytonyi', 4), ('Lopton', 2), ('sethdford', 2), ('netgeeker', 3), ('El-Devoper', 2), ('sompylasar', 6), ('tbrandenburger', 2), ('TheRojam', 2), ('fulldecent', 2), ('skkytest', 2), ('ramlmn', 2), ('Pantic14', 2), ('shivasurya', 2), ('listepo', 2), ('jyotman94', 2), ('the1900', 2), ('MorpherQAlpha', 2), ('musicformellons', 4), ('amay', 2), ('xenoterracide', 3), ('Ashkan-', 2), ('hir3npatel', 3), ('geoyws', 3), ('ruthsantos963', 2), ('intersides', 2), ('ilyes4j', 3), ('ramijarrar', 2), ('mspl13', 4), ('shmay', 2), ('whoopsie890', 2), ('stianflage', 3), ('DisgruntledBadger', 2), ('911neo', 2), ('jhx4mp', 2), ('evawhite33230', 19), ('anartfulscience', 2), ('bochen2014', 2), ('rianby64', 7), ('fabiozaffani', 2), ('maniacmusic', 2), ('bmfay', 2), ('tsarapke', 3), ('chajath', 3), ('PenumbraBrah', 2), ('consideRatio', 2), ('felquis', 2), ('kahjav', 2), ('jairorudas', 2), ('mustiag', 2), ('rejhgadellaa', 3), ('summerleenn', 8), ('KorsaR-ZN', 3), ('FRAGnatt', 2), ('markopaju', 4), ('aJchemist', 4), ('JdidouBrahim', 2), ('Whiteseeker', 2), ('clementmas', 2), ('jirkadanek', 3), ('efortes', 3), ('MicaelaBenitez', 3), ('simplifyod', 2), ('joshuajazleung', 2), ('cosmo99', 2), ('koba-ninkigumi', 5), ('jp26jp', 2), ('trepidacious', 2), ('airtonix', 2), ('PavelPZ', 2), ('salc', 2), ('JustH3LL', 2), ('jfily', 4), ('kotmatpockuh', 2), ('joemidi', 5), ('nikhresna', 2), ('anfelor', 2), ('Karla-Isabel-Sandoval', 2), ('gersondvl', 2), ('onechrisjones', 2), ('rmcg', 2), ('susanhodge71', 2), ('CarlosAmaral', 2), ('marekjalovec', 4), ('kittsville', 2), ('vfaiepa', 2), ('tly1980', 2), ('tomcruze17', 2), ('sonwh98', 3), ('randrianov', 3), ('nj3ma', 2), ('vmateixeira', 3), ('3mp3ri0r', 3), ('jekarespawn', 2), ('TheOriginalMementoMori', 2), ('antonmoiseev', 2), ('happyvig', 3), ('belwal1991', 9), ('fisshy', 3), ('tschiela', 2), ('elfico', 2), ('sad270', 4), ('triplekdev', 2), ('genadis', 2), ('CodeGenTeam', 3), ('mustafa-x', 2), ('mddanishansari', 2), ('iryan2', 2), ('Son-Lam', 2), ('magevadi', 2), ('julesmoretti', 2), ('mikegleasonjr', 3), ('Mugen87', 3), ('hebbet', 3), ('kpost', 2), ('vadimnehta', 2), ('shubhamr9', 2), ('Kinark', 2), ('Deilv', 3), ('fanyer', 2), ('nayzawoo', 3), ('jkrgr', 2), ('com-taycor-rbutler', 2), ('DeusProx', 2), ('deborah86', 2), ('JosefJezek', 3), ('StanlieK', 2), ('littleguga', 2), ('coolroom', 2), ('gpgekko', 4), ('cometta', 2), ('karanjthakkar', 5), ('rhroyston', 6), ('farishcv', 2), ('tommgalati', 2), ('aidanharris', 2), ('haschek', 2), ('cubei', 3), ('russellharrower', 2), ('SaadeMotion', 2), ('RoliesDonald', 3), ('leoradmagnegithub', 3), ('matheusdsm', 2), ('andhess', 2), ('LsKs', 2), ('oileosilva', 2), ('rohanthacker', 4), ('calvinmikael', 3), ('CAD97', 2), ('listedegarde', 4), ('jojow', 3), ('ifraixedes', 3), ('davidshen84', 2), ('babywarez', 3), ('rafaelstz', 2), ('s-devaney', 2), ('Nishant-Pathak', 2), ('smitthakkar', 2), ('kyoukhana', 3), ('x1ddos', 4), ('manju16832003', 2), ('AndreLGava', 3), ('PACIFIQUE140', 2), ('johnam', 2), ('ericlindesvard', 2), ('godsplans', 2), ('PingusPepan', 3), ('justinmclean', 2), ('cdiener', 3), ('kuncevich', 2), ('toddmbloom', 2), ('zuojunyuan', 2), ('sranimez', 3), ('Senthe', 2), ('gplanchat', 2), ('mercmobily', 2), ('LukeSwart', 2), ('Maks3w', 2), ('appunnicer13', 3), ('ammuench', 2), ('joanmariatrack', 2), ('jet10000', 2), ('toshimaru', 2), ('Danieler', 2), ('Unforgiven-wanda', 2), ('Abradoks', 3), ('somombo', 2), ('marcinant', 2), ('alvarotrigo', 3), ('MichaelMarkieta', 2), ('akabhirav', 2), ('kriddy800', 3), ('jsguy', 2), ('OliverJAsh', 3), ('hro2009', 2), ('zogthealien', 2), ('dishantpatel6', 2), ('BurningLights', 2), ('Sonntagskind', 2), ('Roaders', 3), ('maroof-ahmad', 2), ('masaeedu', 3), ('gkn06', 2), ('TristanWiley', 4), ('rundef', 4), ('Adryd', 2), ('mca62511', 2), ('blitzwebtech', 2), ('chanalex', 2), ('FranzSkuffka', 2), ('nh1402', 2), ('JCKodel', 2), ('PranjalDesai', 2), ('Billiam', 3), ('bojoyzhou', 2), ('tleunen', 8), ('georgesb', 2), ('ktodyruik', 2), ('awalacabab', 2), ('pathakNishant', 2), ('afonsopacifer', 3), ('svzosorio', 3), ('hermagrini', 2), ('MathieuDerelle', 2), ('marcinkowal2015', 2), ('shmshd12', 6), ('brucedlukens', 3), ('kroegerama', 2), ('pallosp', 2), ('davidlavater', 17), ('ArnaudWeyts', 2), ('leocaseiro', 3), ('arijitlaik', 4), ('liquidx', 5), ('vincaslt', 2), ('paullewis', 4), ('allanchau', 2), ('tjvg91', 2), ('620hun', 2), ('fgarcia', 2), ('awturner', 3), ('DevJazz', 2), ('swapneelak', 2), ('Bwc84', 2), ('sethladd', 2), ('enr00ted', 2), ('VamosErik88', 4), ('satya-dash', 2), ('archonkulis', 2), ('osechet', 3), ('creativeprogramming', 2), ('jiaweihli', 4), ('SabineMa', 4), ('Bound3R', 3), ('maximiliankukla', 2), ('surma', 16), ('junland', 2), ('prakashbharti786', 2), ('AliMD', 3), ('elwinbuisman', 2), ('criscompbr', 2), ('etrupja', 2), ('7immy', 2), ('benguild', 2), ('SamyBencherif', 2), ('an0nh4x0r', 2), ('Thanood', 6), ('Hamed-Zamanyad', 3), ('juanpernu', 2), ('brainscript', 2), ('rfru', 13), ('roycruze33', 23), ('vamsikrishna290', 2), ('alexgig', 2), ('MrMitch', 2), ('raphaelsavina', 2), ('JacobDorman', 2), ('Craytor', 2), ('comerc', 2), ('leipert', 2), ('kostonstyle', 2), ('amyberry826', 2), ('iKevinShah', 2), ('aoancea', 3), ('greenkeeperio-bot', 12), ('kvnol', 3), ('vegansk', 2), ('kybarg', 3), ('vwahj', 2), ('vadimsg', 2), ('timurtu', 3), ('simpsondigital', 2), ('ConAntonakos', 3), ('kenrcasio', 19), ('dsl101', 3), ('ctalpandey', 2), ('EmanoelLopes', 2), ('jbiron', 2), ('minessis', 2), ('brianthelion', 3), ('vinitm', 3), ('Lidofernandez', 2), ('kkpoon', 4), ('eukreign', 2), ('mnavarro17', 2)]], 'total_contributions': [2231, 2142]}, {'id': 23357588, 'name': 'google/protobuf', 'bus_factor': [160, 324], 'detail': [[('litinglin', 4), ('zhangkun83', 9), ('btabibian', 4), ('kbinani', 3), ('dsymonds', 9), ('murraystokely', 3), ('M-Vivek', 3), ('cijianzy', 3), ('sergei-ivanov', 4), ('brianduff', 5), ('matthewvalimaki', 3), ('hhzzk', 3), ('gabikliot', 4), ('edmonds', 3), ('AustinSchuh', 6), ('nathanielmanistaatgoogle', 3), ('mreu', 3), ('zmodem', 3), ('girving', 3), ('jcooper-korg', 4), ('thomasvl', 16), ('anderscarling', 3), ('podsvirov', 15), ('fweimer', 3), ('ensonic', 3), ('gordana-cmiljanovic-imgtec', 3), ('0xAAE', 4), ('MaxGabriel', 3), ('bbarenblat', 3), ('yeison', 3), ('PetteriAimonen', 4), ('Qartar', 5), ('bakineggs', 3), ('traff', 3), ('martiert', 4), ('zhihuawensc', 3), ('raggi', 8), ('wfarr', 3), ('mhahn', 5), ('kentonv', 4), ('tswast', 7), ('Zex', 3), ('caxton', 3), ('alfredkcp', 3), ('ekg', 4), ('xiaofeng-gg', 4), ('haberman', 28), ('DouglasHeriot', 4), ('mzhaom', 6), ('mathstuf', 4), ('nsuke', 4), ('dano', 9), ('Flavien', 4), ('Kentzo', 4), ('yukawa', 7), ('tkarls', 4), ('lberki', 3), ('cnauroth', 3), ('cconroy', 7), ('dlh3', 3), ('philsttr', 3), ('fjjiaboming', 3), ('ejona86', 7), ('vapier', 4), ('liwei-ch', 3), ('rohansurya', 3), ('googlebot', 15), ('tseaver', 8), ('TeBoring', 20), ('normanmaurer', 5), ('rgarat', 4), ('jhump', 5), ('benbennett', 4), ('redivo', 4), ('kimeuichan', 3), ('edgar-pek', 3), ('rinatz', 3), ('martinmaly', 4), ('gsmith-to', 3), ('wubo0067', 3), ('Klaim', 3), ('louiscryan', 6), ('pherl', 21), ('nicolasnoble', 3), ('murgatroid99', 3), ('isaiah', 7), ('jleclanche', 3), ('ricksladkey', 3), ('andrewharp', 3), ('zsurocking', 3), ('attilaolah', 3), ('peter-edge', 3), ('fizbin', 4), ('wanggnim', 3), ('AndroidDeveloperLB', 3), ('kkm000', 3), ('jtattermusch', 31), ('mintyc', 3), ('justinsb', 3), ('randomascii', 4), ('skippy', 18), ('jeromekelleher', 3), ('thughes', 5), ('meltahan', 3), ('ennerf', 5), ('sainaetr', 3), ('ezegomez', 3), ('dhermes', 4), ('keveman', 4), ('Ivoz', 3), ('ctiller', 4), ('supercharger', 3), ('anandolee', 14), ('damienmg', 3), ('aarotech', 3), ('tamird', 13), ('qzix', 3), ('y-higuchi', 3), ('ludoch', 3), ('breathe67', 3), ('dmaclach', 15), ('pldg', 3), ('romange', 3), ('ned14', 3), ('alexfernandez', 3), ('devurandom', 3), ('dougkwan', 4), ('wankai', 3), ('matthew-wu', 3), ('nslay', 4), ('pkasting', 7), ('jskeet', 34), ('MartinHusemann', 3), ('slavanap', 3), ('jcanizales', 11), ('bsilver8192', 6), ('Yangqing', 4), ('ostrovsky', 5), ('Sahloul', 4), ('drodri', 3), ('richburdon', 3), ('roysmith33230', 3), ('samskiter', 3), ('xfxyjwf', 34), ('fabiannagel', 3), ('nmittler', 9), ('cfallin', 26), ('dhirschfeld', 5), ('oon3m0oo', 3), ('c0nk', 4), ('earhart', 4), ('nataliencl', 3), ('williamkibira', 4), ('rgeary1', 5), ('ustime', 3), ('nico', 4), ('LuxoftAKutsan', 3), ('mgiuca', 3), ('numberten', 3), ('leif81', 4)], [('mickeyreiss', 3), ('ngg', 4), ('JBKahn', 3), ('sergiorykov', 3), ('lostindark', 4), ('pradeepg26', 3), ('kchodorow', 4), ('jonparrott', 4), ('little-dude', 4), ('zhongfq', 3), ('joeltine', 11), ('xyzzyz', 7), ('wujingchao', 3), ('jsievenpiper', 3), ('damienmg', 8), ('onovotny', 5), ('gegles', 4), ('AsianDoctor', 3), ('beardedN5rd', 4), ('gkraynov', 3), ('brian-peloton', 4), ('anandolee', 10), ('zorrocaesar', 3), ('sergiocampama', 26), ('the-alien', 3), ('snapsam', 3), ('kkm000', 3), ('legrosbuffle', 4), ('udnaan', 3), ('jkukul', 3), ('jeremyong', 4), ('chih-hung', 3), ('tsondergaard', 3), ('mxmark', 3), ('dongjoon-hyun', 4), ('kblanks', 5), ('christian-storm', 3), ('philsc', 3), ('mcos', 4), ('sheffatguidance', 3), ('lukebakken', 3), ('SRyabinin', 3), ('saintstack', 4), ('jasonhe88', 3), ('cgrushko', 5), ('pstavirs', 4), ('geoffreywiseman', 3), ('ignatenkobrain', 3), ('davidlavater', 6), ('pmbethe09', 3), ('aelam', 3), ('wu-sheng', 5), ('jtattermusch', 13), ('ananthonline', 3), ('fweikert', 3), ('lolgear', 3), ('marcusimprobable', 3), ('dnkoutso', 7), ('guptasu', 3), ('krisskross', 3), ('podsvirov', 14), ('Coldmooon', 3), ('eclou', 3), ('kmayfiel-ibm', 3), ('longoj', 3), ('amauryfa', 3), ('mjsteger', 3), ('jbrianceau', 10), ('gabm', 3), ('rpavlik', 3), ('anoopsjohn', 3), ('kilink', 3), ('Habu-Kagumba', 3), ('autosquid', 3), ('nake90', 3), ('pranasblk', 3), ('robbarnes', 3), ('sinzianag', 3), ('DanGoldbach', 3), ('D3Hunter', 3), ('lokeshkarguwal', 3), ('amineben89', 3), ('KindDragon', 5), ('jonwallg', 3), ('acozzette', 16), ('itavy', 3), ('emmenlau', 6), ('nemoinho', 3), ('liangjun0305', 3), ('gkrasin', 5), ('JakeWharton', 4), ('gturri', 3), ('mridulnagpal', 3), ('ejsd1989', 3), ('pherl', 23), ('jafara', 3), ('haberman', 29), ('petewarden', 3), ('dprotaso', 4), ('googlebot', 18), ('alphaonex86', 3), ('tomoueda', 3), ('lhecker', 3), ('dalebrubaker', 4), ('mavrukin', 3), ('vladmos', 3), ('live106', 3), ('bshaffer', 3), ('jgeewax', 3), ('jhump', 5), ('Lumiukko', 3), ('mjmdavis', 5), ('na-ka-na', 7), ('tatraian', 5), ('thesamet', 3), ('ctubbsii', 3), ('steakknife', 3), ('drivehappy', 3), ('onlyjob', 5), ('tetek', 4), ('bobbytables', 3), ('nicolasnoble', 7), ('murgatroid99', 5), ('wulei', 3), ('raggi', 5), ('bryongloden', 3), ('gvaish', 11), ('bazel-io', 6), ('CDLuminate', 3), ('azurelaker', 3), ('sergei-ivanov', 3), ('jhickson', 6), ('jgrandyxignite', 3), ('JasonLunn', 7), ('MedGhassen', 3), ('seishun', 10), ('KerstinKeller', 3), ('ejona86', 4), ('jskeet', 29), ('Zeks', 3), ('tbillington', 4), ('benvanik', 3), ('fqsuncn', 3), ('qzix', 5), ('ltkn', 3), ('ckennelly', 5), ('os72', 3), ('TeBoring', 19), ('yaakov-h', 3), ('pgrosu', 6), ('dfed', 3), ('anbai106', 4), ('apollo-time', 5), ('Triztian', 3), ('justinseanmartin', 4), ('gongsu832', 3), ('jeroenooms', 3), ('tamird', 4), ('mkosieradzki', 4), ('zlim', 3), ('remicollet', 3), ('keveman', 7), ('jhspaybar', 4), ('awan1', 3), ('grooverdan', 3), ('gerben-s', 4), ('smparkes', 6), ('yunlhowk', 3), ('pongad', 4), ('xR3b0rn', 3), ('bjwatson', 3), ('tiziano88', 3), ('mehrdadjahangirisc', 3), ('vach', 4), ('abscondment', 4), ('yugui', 3), ('zhangkun83', 5), ('spf2', 3), ('thomasvl', 35), ('mike07026', 4), ('gchoza', 3), ('ramrunner', 5), ('esteluk', 3), ('mrry', 4), ('ottok', 3), ('opoplawski', 4), ('dwo', 3), ('davidzchen', 7), ('vext01', 4), ('KevinLucidyne', 3), ('pcj', 4), ('anderscarling', 3), ('hochhaus', 7), ('primiano', 3), ('Kwizatz', 3), ('goldenbull', 5), ('tswast', 6), ('jcburke14', 3), ('hyxppz', 3), ('darkcrawler01', 3), ('belvedere-trading', 5), ('avgweb', 4), ('michaelbausor', 3), ('peternewman', 3), ('LazyPlanet', 4), ('F4FXL', 6), ('timanovsky', 3), ('DrakeTM', 3), ('kientzle', 12), ('myitcv', 5), ('nykolaslima', 3), ('bengaspar', 3), ('cwelton', 4), ('nmittler', 10), ('plemanach', 3), ('grpc-jenkins', 19), ('jonathon-love', 3), ('NicklasWallgren', 6), ('Kentzo', 3), ('jcanizales', 8), ('bsilver8192', 3), ('wychen', 7), ('perotinus', 5), ('detlevschwabe', 5), ('andrewharp', 5), ('gitplaneta', 3), ('zeroZshadow', 3), ('marcinwyszynski', 5), ('zhenyao2008', 3), ('ParthKolekar', 3), ('slavanap', 4), ('camillol', 3), ('zhsyourai', 3), ('mikhailmikhaylov', 3), ('craigcitro', 4), ('tomas-abrahamsson', 3), ('lizan', 5), ('Flavien', 3), ('abaire', 3), ('mzhaom', 3), ('Photonios', 4), ('hotpxl', 3), ('0xFEEDC0DE64', 3), ('allevato', 10), ('matthauck', 4), ('warrenfalk', 7), ('PhilippMundhenk', 3), ('stanley-cheung', 5), ('worm2fed', 3), ('mathstuf', 3), ('cceckman', 3), ('apolcyn', 3), ('silviulica', 5), ('mbarbon', 3), ('adamatan', 3), ('manupsunny', 3), ('ohaddahan', 3), ('Falco20019', 9), ('dcarp', 3), ('laszloagardi', 3), ('vjpai', 5), ('mazurkin', 4), ('dkharrat', 3), ('soltanmm-google', 3), ('dsymonds', 3), ('kelvinh', 3), ('SimplicityGuy', 3), ('pradyuman', 3), ('chezRong', 4), ('lebauce', 3), ('benjigoldberg', 4), ('PiotrSikora', 3), ('carl-mastrangelo', 3), ('jart', 3), ('rakyll', 6), ('guoxiao', 3), ('pcorpet', 3), ('sburke56', 4), ('biran0079', 3), ('dhowden', 3), ('DexterPhone', 3), ('rowillia', 3), ('jakirkham', 4), ('tseaver', 5), ('stevenroose', 3), ('ianfhunter', 3), ('wiktortomczak', 3), ('cwhipkey', 3), ('potato20', 3), ('frett', 3), ('dmap', 4), ('woigl', 4), ('chrisdunelm', 4), ('ASethi77', 3), ('ozkuran', 3), ('ivannaranjo', 4), ('yeswalrus', 18), ('dago', 4), ('blowmage', 7), ('TanukiSharp', 3), ('rshin', 3), ('adrianludwin', 3), ('eeight', 4), ('KeithWoods', 3), ('thinkerou', 4), ('KrishHari', 3), ('dParadiz', 3), ('csmatrix', 3), ('johnpmayer', 3), ('abergmeier-dsfishlabs', 4), ('BenchR267', 4), ('topillar', 4), ('xfxyjwf', 40), ('jkbbwr', 3), ('khingblue', 7), ('jeffmvr', 3), ('koubaa', 3), ('sebastic', 5), ('calbach', 4), ('kmontag', 3), ('AzAli71', 3), ('BugDiver', 4), ('hillzeta', 4), ('Sufir', 4)]], 'total_contributions': [1491, 2652]}, {'id': 20818126, 'name': 'google/ExoPlayer', 'bus_factor': [242, 316], 'detail': [[('amitsamal', 4), ('winlinvip', 6), ('jacktech24', 4), ('ganeshjay', 3), ('mine260309', 6), ('rogotulka', 3), ('jjvargas', 3), ('SachiraChin', 3), ('TagLoomis', 3), ('MaTriXy', 4), ('martinbonnin', 7), ('PetrSklenicka', 5), ('figuresk8terkim', 3), ('Manjunath-N', 3), ('Brahmasmi', 5), ('zondaOf2012', 3), ('ppamorim', 6), ('amanmj', 3), ('zvonkokemperle', 3), ('raylee4204', 3), ('canatella', 5), ('jatago', 3), ('sasindroid', 3), ('IhorZak', 3), ('brian-chu-twc', 4), ('Guro', 5), ('pestopastarasta', 3), ('rok5ek', 4), ('hateum', 3), ('samek', 4), ('kenroyandfamily', 3), ('bhnath', 3), ('MurtadhaS', 3), ('th3hamm0r', 4), ('pernilla', 3), ('jeoliva', 14), ('Gian84', 3), ('jeprojects', 3), ('triwav', 3), ('srikieonline', 4), ('mingfai', 5), ('jgarner', 3), ('devenkhari', 4), ('sureshcnvidia', 3), ('FastDr1v3r', 3), ('Amritpal33', 4), ('stuckless', 4), ('abhiguru', 4), ('endlessmind', 4), ('kxun', 3), ('sapanda', 3), ('b95505017', 6), ('zsmatyas', 3), ('Bastian35022', 5), ('baseballbrad3', 3), ('crushonme', 3), ('Ph1b', 4), ('sarahachem', 3), ('jedhoffmann', 3), ('hodzic', 5), ('sachinbhanot', 5), ('stari4ek', 3), ('baboya', 3), ('xrigau', 4), ('yuquan23459', 3), ('tungds', 4), ('don11995', 5), ('denite', 3), ('IanDBird', 12), ('bsysop', 9), ('myion8you', 3), ('IlyaMyasoedov', 4), ('diabloo', 3), ('Ood-Tsen', 10), ('piterwilson', 4), ('richk', 4), ('kinhdang', 4), ('juanpef', 3), ('Nezz', 7), ('blundell', 4), ('machenmusik', 3), ('trkich', 3), ('Mackqrenc', 3), ('RikHeijdens', 7), ('Maigre', 3), ('miquelbeltran', 5), ('algrid', 3), ('david2658', 3), ('eshkoliGilad', 4), ('NoGirlFriendException', 3), ('HugoGresse', 4), ('markdion-vdi', 3), ('Belozerow', 3), ('matheusss-ufop', 3), ('mjsibbald', 5), ('jpshelley', 3), ('dophlin', 3), ('AndroidDeveloperLB', 3), ('alex3d', 3), ('cyberjaime45', 3), ('nzer', 4), ('pprateek786', 3), ('markymark1988', 3), ('mikaelstaldal', 3), ('palakRpatel', 4), ('dhir-pratap', 4), ('AshtonEngberg', 3), ('brabeler', 3), ('kientux', 3), ('Oleur', 3), ('vigneshvg', 5), ('cacciato', 3), ('mondain', 3), ('schoudhary1980', 3), ('pajatopmr', 6), ('Android4MediaPlayer', 3), ('goffioul', 4), ('Avetri', 5), ('ihrthk', 3), ('Schizo', 8), ('BCjwhisenant', 4), ('prasadsvss', 3), ('tai2', 4), ('farfromrefug', 3), ('edisonw', 3), ('fougere-mike', 4), ('VishwanathPatil', 5), ('qqli007', 3), ('edikfuks', 4), ('perchrh', 3), ('tresvecesseis', 11), ('aravinds03', 6), ('ptran-gpfw', 6), ('mick1418', 3), ('pipelka', 3), ('ryanseys', 3), ('googlebot', 6), ('Kening', 6), ('boburger', 3), ('lucastsantos', 3), ('randeeppr', 7), ('marinica94', 4), ('bagusflyer', 3), ('chrisjenx', 3), ('lnmcc', 4), ('souji1103', 3), ('iNdieboyjeff', 3), ('crossle', 6), ('ripleyXLR8', 3), ('kanongil', 3), ('dnuriel', 3), ('janegrytsenko', 4), ('haitech', 4), ('NatsumeReiko', 3), ('iceteahh', 4), ('s3xy4ngyc', 3), ('zayass', 3), ('sandersaares', 5), ('Arnesen', 3), ('SnowcatSVK', 4), ('andreimarinescu', 5), ('Srinidhikandi', 4), ('emakar', 3), ('ened', 11), ('Zo2m4bie', 4), ('seventhmoon', 5), ('JanKokalj', 4), ('Arqu', 8), ('cabuhatprince', 3), ('Appostrophe', 3), ('ddobrev', 3), ('wingoku', 3), ('IonAalbers', 3), ('Nimrodda', 3), ('mitsnosrap', 3), ('cemkacmaz', 3), ('scan', 3), ('thasso', 3), ('gitanuj', 6), ('T-Pham', 3), ('zsoltboldizsar', 3), ('trandroid', 3), ('elixiroflife4u', 3), ('andudo', 9), ('chirs1985', 3), ('artnalban', 3), ('HPIWicket', 3), ('drayan85', 5), ('mkazuma29', 3), ('justinddunlap', 3), ('joshimaulik', 4), ('dextergk', 3), ('rcvangemert', 3), ('AlanCheen', 6), ('hansvdg', 3), ('johanlindquist', 5), ('brillenheini', 4), ('sreereddymenon', 3), ('krok55', 5), ('andrewlewis', 8), ('bascel', 3), ('Ltty', 3), ('VicJcc', 3), ('rajyvan', 3), ('abdallah95', 4), ('rodrigoolr', 3), ('nurne', 3), ('ferrytanu', 6), ('optman', 6), ('dnutcracker', 10), ('sam2007', 3), ('hermanbanken', 3), ('pakerfeldt', 7), ('nbruning', 3), ('gupta-sachin', 3), ('StrayClouds', 4), ('DavidMihola', 4), ('aptly-io', 5), ('longmh', 3), ('peddisri', 3), ('brianchu', 5), ('pratikpradhan', 3), ('spark85', 4), ('finneapps', 3), ('chodison', 4), ('siavashabdoli', 3), ('hori-ryota', 4), ('SteveEdson', 3), ('mikumi', 3), ('ojw28', 48), ('Angels-group', 4), ('kaltindas', 3), ('thefenix1', 3), ('khashayarghamati', 3), ('markniebur', 3), ('ldimitroff', 4), ('dturner', 3), ('agalera-nice', 3), ('kellyschrock', 3), ('42footPaul', 4), ('osemen-remit', 3), ('ericcbm', 3)], [('AlirezaGhanbarinia', 5), ('jefftinker', 3), ('boywithk9', 3), ('evorotilova', 3), ('PipOlt', 3), ('googlebot', 11), ('dobrusev', 5), ('kidmiracleman', 5), ('ascmartins', 4), ('seu070507', 3), ('bluemix', 4), ('SoroushDMA', 3), ('qillura', 3), ('jschools', 3), ('faiyeah', 3), ('kunalbhatia', 4), ('IlyaMyasoedov', 3), ('sandersaares', 5), ('cstew', 3), ('lmqwudi', 3), ('rsatandroid', 3), ('makvasic', 5), ('sharkhuang', 3), ('dmfrey', 3), ('cbfiddle', 5), ('Jedashford', 3), ('ravinderpoonia07', 3), ('SteUK', 4), ('Bastian35022', 4), ('crossle', 5), ('PoulsQ', 3), ('danrossi', 5), ('Bhavin20290', 3), ('tfgstudios', 3), ('zaky295', 3), ('m1c999', 3), ('yangwuan55', 4), ('duanyao', 4), ('bricker', 3), ('srikanth569', 3), ('Amritpal33', 4), ('biodatacomp', 4), ('unext-wendong', 4), ('lovishsindhwani', 3), ('mikeswanson', 3), ('TBoshoven', 4), ('shirensong', 3), ('pandukumar', 3), ('ram992', 5), ('luxband', 3), ('artnalban', 3), ('HSY229', 4), ('mekya', 4), ('henrihallik', 3), ('vipjml', 4), ('johngray1965', 3), ('joshimaulik', 5), ('timonchev', 3), ('topolog', 3), ('bartsidee', 5), ('raja-baz', 3), ('moacir69', 6), ('victordigio', 3), ('setfire2', 3), ('drhill', 12), ('cyberjaime45', 3), ('trckashyap', 3), ('laurafuente', 4), ('pflammertsma', 3), ('lipangit', 4), ('abdallah95', 5), ('Avetri', 6), ('amosyuen', 4), ('casajavi', 3), ('PooriaFarhad', 5), ('irenecs', 3), ('Dayzen', 3), ('pittenga', 5), ('v5lukia', 3), ('ofuwape', 3), ('amarkovits', 3), ('Anshumansharma12', 4), ('cjveldkamp', 3), ('Joseph82', 3), ('gongshoudao', 3), ('marcbaechinger', 4), ('natez0r', 7), ('hardcattle', 4), ('marva2013', 3), ('wachiu', 4), ('vxhviet', 3), ('Mihuilk', 3), ('dansoonie', 3), ('norazhou', 3), ('egemenhamutcu', 3), ('gpinigin', 6), ('squm', 3), ('kaorimatz', 3), ('Eyliss', 3), ('grosalex', 3), ('hezhisu', 5), ('agr111', 3), ('whoyouni', 3), ('clhols', 3), ('teokw90', 3), ('tiger1990', 4), ('brucetoo', 3), ('nitro52', 3), ('blueslabs', 4), ('ishantsagar', 4), ('Mark86NL', 3), ('PavelGP', 3), ('mehraf', 3), ('johanlindquist', 3), ('yanglichuan', 3), ('randeeppr', 4), ('hoseinit', 3), ('sungerk', 3), ('sergiomartinez4', 3), ('vigneshvg', 4), ('dreich', 4), ('JustinGeorgeJoseph', 3), ('huyn', 3), ('Muthukathiravan', 4), ('SrujithPoondla', 3), ('stuckless', 4), ('WeiChungChang', 6), ('gte619n', 3), ('replystreamingwidevine', 3), ('freakk82', 3), ('damienoliver', 3), ('sapanda', 4), ('michalliu', 4), ('b95505017', 9), ('ralphpina', 4), ('ChernyshovYuriy', 10), ('cooliobr', 3), ('Viddi', 3), ('subinkrishna', 3), ('hyurtseven81', 3), ('fougere-mike', 4), ('biezhihua', 3), ('eshkoliGilad', 4), ('NoGirlFriendException', 4), ('icastell', 4), ('longteng9', 3), ('vfutia', 3), ('laurencedawson', 4), ('oleynikd', 3), ('bayantaani', 4), ('algobunny', 3), ('Ood-Tsen', 3), ('replystreaming', 3), ('abighai', 3), ('Usernamezhx', 3), ('remcomokveld', 3), ('suzukaze', 4), ('davidarchi', 3), ('jlacivita', 3), ('lukaciko', 3), ('giladna', 5), ('meteoorkip', 3), ('thanasuk', 4), ('WeaveStudios', 3), ('kientux', 3), ('Meera94', 3), ('wkarl', 3), ('xbezdeka', 3), ('uplusplus', 3), ('edwardaa', 4), ('endlessmind', 3), ('ssenanayake', 3), ('nosyjoe', 4), ('VesnaRistevska', 3), ('zsmatyas', 11), ('igo88', 3), ('mlondon1', 5), ('pantos27', 4), ('codesunshine', 3), ('aidynamic', 3), ('arjuntu', 3), ('martinbonnin', 4), ('wlc520123', 4), ('IngelssonN', 3), ('noamtamim', 3), ('botondbutuza', 3), ('felixyangtw', 3), ('j-garin', 4), ('AntonAFA', 3), ('Fleker', 3), ('aletorrado', 3), ('ElioTohm', 3), ('aravinds03', 3), ('ddv2005', 3), ('AquilesCanta', 17), ('iflytek-duan', 4), ('wvpaf', 9), ('darktiny', 3), ('andrewlewis', 17), ('hotchemi', 4), ('vaszol', 3), ('jmgirven', 4), ('tprochazka', 3), ('sujitkjha', 3), ('jrocharodrigues', 3), ('hungamademo', 3), ('MohammedAtif', 3), ('SidneySeldon', 3), ('ened', 4), ('Zo2m4bie', 4), ('akavrt', 3), ('stari4ek', 6), ('mromer', 3), ('billyjoker', 4), ('caipivara', 5), ('okjoonkim', 3), ('amitsamal', 3), ('alvinhkh', 3), ('kinhdang', 4), ('cperry-gpsw', 3), ('wajidp', 4), ('luoser', 3), ('Hitexroid', 3), ('tresvecesseis', 8), ('perchrh', 6), ('laminsk', 4), ('Duna', 3), ('Narflex', 3), ('hetoan2', 3), ('nezen', 3), ('tentkotta', 3), ('don11995', 4), ('JonWatson', 3), ('IanDBird', 8), ('barbarian', 3), ('sooth-sayer', 3), ('micolous', 3), ('Andevity', 5), ('uni2nd', 4), ('qoo888', 3), ('abhiguru', 6), ('philipgiuliani', 3), ('outlying', 4), ('mice777', 4), ('Kexiliu', 4), ('j-t-h', 4), ('shysh', 3), ('lukaszkalnik', 3), ('peyoh', 4), ('londhenamdev', 3), ('jonasevcik', 3), ('cranberyxl', 3), ('arianaa30', 3), ('lioun1729', 4), ('gbhall', 5), ('huongnv251291', 3), ('yhd4711499', 3), ('wendong-li', 3), ('alexistkd', 4), ('ceetah', 3), ('luckcoolla', 4), ('atul14', 4), ('pakerfeldt', 6), ('Khang-NT', 3), ('nbruning', 3), ('mingchen', 4), ('vitekn', 3), ('wbo4958', 3), ('GoranNSW', 4), ('shikha7763', 3), ('giangttpham', 3), ('RamkumarVooda', 3), ('erdemguven', 5), ('ojw28', 47), ('TweakySolution', 3), ('azabujuban', 3), ('bene25', 5), ('dlewanda', 3), ('Xzan', 3), ('Angels-group', 3), ('JoelSjogren', 3), ('eneim', 5), ('tao1', 3), ('brdn', 3), ('daynesh', 3), ('Skrewtape', 5), ('saurabhkpatel', 3), ('YichengLiu', 3), ('vishnuganta22', 4), ('andreimarinescu', 3), ('chile-zhong', 5), ('jozefchutka', 4), ('hoimingw', 4), ('sdex', 3), ('jglanfield', 4), ('almoghzn', 3), ('fujunwei', 3), ('StefMa', 3), ('aptly-io', 3), ('tajoumal', 3), ('DavidMihola', 5), ('peddisri', 6), ('Alviere', 3), ('EE-GSlomin', 5), ('mahich', 3), ('SLepUbIn', 3), ('marcuz89', 3), ('ebr11', 3), ('BoD', 3), ('RikHeijdens', 8), ('jdprajapati', 4), ('ptran-gpfw', 3), ('MudasirBhutto', 3), ('Shyri', 3), ('zmsansan', 3), ('PaulWoitaschek', 3)]], 'total_contributions': [1547, 2365]}]\n"
     ]
    }
   ],
   "source": [
    "x,y = openDigger.metric.chaoss.chaossBusFactor(options, mode='origin')\n",
    "x,y = openDigger.metric.chaoss.chaossBusFactor(options)\n",
    "print(x)"
   ]
  },
  {
   "cell_type": "code",
   "execution_count": 9,
   "id": "6880aeeb",
   "metadata": {
    "vscode": {
     "languageId": "javascript"
    }
   },
   "outputs": [
    {
     "name": "stdout",
     "output_type": "stream",
     "text": [
      "[{'id': 11850014, 'name': 'google/gumbo-parser', 'resolution_duration_avg': [763.76, 2562.0], 'levels': [[12, 2, 2, 13], [0, 0, 0, 2]], 'quantile_0': [0.0, 2532.0], 'quantile_1': [1.0, 2547.0], 'quantile_2': [9.0, 2562.0], 'quantile_3': [2631.0, 2577.0], 'quantile_4': [2911.0, 2592.0]}, {'id': 12929998, 'name': 'google/gfw-deployments', 'resolution_duration_avg': [nan, 2431.0], 'levels': [[], [0, 0, 0, 1]], 'quantile_0': [nan, 2431.0], 'quantile_1': [nan, 2431.0], 'quantile_2': [nan, 2431.0], 'quantile_3': [nan, 2431.0], 'quantile_4': [nan, 2431.0]}, {'id': 200125643, 'name': 'google/blockly-samples', 'resolution_duration_avg': [nan, 2390.5], 'levels': [[], [0, 0, 0, 2]], 'quantile_0': [nan, 2315.0], 'quantile_1': [nan, 2352.75], 'quantile_2': [nan, 2390.5], 'quantile_3': [nan, 2428.25], 'quantile_4': [nan, 2466.0]}]\n"
     ]
    }
   ],
   "source": [
    "x,y = openDigger.metric.chaoss.chaossIssueResolutionDuration(options, mode='origin')\n",
    "x,y = openDigger.metric.chaoss.chaossIssueResolutionDuration(options)\n",
    "print(x)"
   ]
  },
  {
   "cell_type": "code",
   "execution_count": 10,
   "id": "ac4c8379",
   "metadata": {
    "vscode": {
     "languageId": "javascript"
    }
   },
   "outputs": [
    {
     "name": "stdout",
     "output_type": "stream",
     "text": [
      "[{'id': 35509149, 'name': 'google/gmail-oauth2-tools', 'resolution_duration_avg': [2591.0, 2734.0], 'levels': [[0, 0, 0, 1], [0, 0, 0, 1]], 'quantile_0': [2591.0, 2734.0], 'quantile_1': [2591.0, 2734.0], 'quantile_2': [2591.0, 2734.0], 'quantile_3': [2591.0, 2734.0], 'quantile_4': [2591.0, 2734.0]}, {'id': 40736127, 'name': 'google/cityhash', 'resolution_duration_avg': [nan, 2326.0], 'levels': [[], [0, 0, 0, 1]], 'quantile_0': [nan, 2326.0], 'quantile_1': [nan, 2326.0], 'quantile_2': [nan, 2326.0], 'quantile_3': [nan, 2326.0], 'quantile_4': [nan, 2326.0]}, {'id': 22765467, 'name': 'google/CausalImpact', 'resolution_duration_avg': [922.0, 1807.0], 'levels': [[0, 0, 0, 1], [0, 0, 0, 1]], 'quantile_0': [922.0, 1807.0], 'quantile_1': [922.0, 1807.0], 'quantile_2': [922.0, 1807.0], 'quantile_3': [922.0, 1807.0], 'quantile_4': [922.0, 1807.0]}]\n"
     ]
    }
   ],
   "source": [
    "x,y1 = openDigger.metric.chaoss.chaossChangeRequestResolutionDuration(options, mode='origin')\n",
    "x,y = openDigger.metric.chaoss.chaossChangeRequestResolutionDuration(options)\n",
    "print(x)"
   ]
  },
  {
   "cell_type": "code",
   "execution_count": 11,
   "id": "3415cc10",
   "metadata": {
    "vscode": {
     "languageId": "javascript"
    }
   },
   "outputs": [
    {
     "name": "stdout",
     "output_type": "stream",
     "text": [
      "[{'id': 49694681, 'name': 'google/metrosvg', 'response_time_avg': [nan, 2798.0], 'levels': [[], [0, 0, 0, 1]], 'quantile_0': [nan, 2798.0], 'quantile_1': [nan, 2798.0], 'quantile_2': [nan, 2798.0], 'quantile_3': [nan, 2798.0], 'quantile_4': [nan, 2798.0]}, {'id': 51147543, 'name': 'google/tcpauth', 'response_time_avg': [nan, 2782.0], 'levels': [[], [0, 0, 0, 1]], 'quantile_0': [nan, 2782.0], 'quantile_1': [nan, 2782.0], 'quantile_2': [nan, 2782.0], 'quantile_3': [nan, 2782.0], 'quantile_4': [nan, 2782.0]}, {'id': 37750224, 'name': 'google/account-provisioning-for-google-apps', 'response_time_avg': [1473.0, 2777.0], 'levels': [[0, 1, 0, 1], [0, 0, 0, 1]], 'quantile_0': [6.0, 2777.0], 'quantile_1': [739.5, 2777.0], 'quantile_2': [1473.0, 2777.0], 'quantile_3': [2206.5, 2777.0], 'quantile_4': [2940.0, 2777.0]}]\n"
     ]
    }
   ],
   "source": [
    "x,y = openDigger.metric.chaoss.chaossIssueResponseTime(options, mode='origin')\n",
    "x,y = openDigger.metric.chaoss.chaossIssueResponseTime(options)\n",
    "print(x)"
   ]
  },
  {
   "cell_type": "code",
   "execution_count": 12,
   "id": "2475d85b",
   "metadata": {
    "vscode": {
     "languageId": "javascript"
    }
   },
   "outputs": [
    {
     "name": "stdout",
     "output_type": "stream",
     "text": [
      "[{'id': 32257803, 'name': 'google/crush-tools', 'response_time_avg': [1193.5, 2774.0], 'levels': [[1, 0, 0, 1], [0, 0, 0, 1]], 'quantile_0': [0.0, 2774.0], 'quantile_1': [596.75, 2774.0], 'quantile_2': [1193.5, 2774.0], 'quantile_3': [1790.25, 2774.0], 'quantile_4': [2387.0, 2774.0]}, {'id': 29174879, 'name': 'google/file-system-stress-testing', 'response_time_avg': [0.0, 2739.0], 'levels': [[1, 0, 0, 0], [0, 0, 0, 1]], 'quantile_0': [0.0, 2739.0], 'quantile_1': [0.0, 2739.0], 'quantile_2': [0.0, 2739.0], 'quantile_3': [0.0, 2739.0], 'quantile_4': [0.0, 2739.0]}, {'id': 23325230, 'name': 'google/coursebuilder-core', 'response_time_avg': [nan, 2726.25], 'levels': [[], [0, 0, 0, 4]], 'quantile_0': [nan, 2555.0], 'quantile_1': [nan, 2709.5], 'quantile_2': [nan, 2764.0], 'quantile_3': [nan, 2780.75], 'quantile_4': [nan, 2822.0]}]\n"
     ]
    }
   ],
   "source": [
    "x,y = openDigger.metric.chaoss.chaossChangeRequestResponseTime(options, mode='origin')\n",
    "x,y = openDigger.metric.chaoss.chaossChangeRequestResponseTime(options)\n",
    "print(x)"
   ]
  },
  {
   "cell_type": "code",
   "execution_count": 13,
   "id": "88801a7b",
   "metadata": {
    "vscode": {
     "languageId": "javascript"
    }
   },
   "outputs": [
    {
     "name": "stdout",
     "output_type": "stream",
     "text": [
      "[{'id': 28146708, 'name': 'google/test_runner.dart', 'response_time_avg': [338.73, 707.8], 'levels': [[0, 0, 0, 11], [0, 0, 0, 10]], 'quantile_0': [308.0, 675.0], 'quantile_1': [313.5, 690.0], 'quantile_2': [348.0, 715.0], 'quantile_3': [359.0, 725.0], 'quantile_4': [359.0, 725.0]}, {'id': 11430627, 'name': 'google/ansicolor-dart', 'response_time_avg': [341.0, 707.0], 'levels': [[0, 0, 0, 2], [0, 0, 0, 2]], 'quantile_0': [338.0, 704.0], 'quantile_1': [339.5, 705.5], 'quantile_2': [341.0, 707.0], 'quantile_3': [342.5, 708.5], 'quantile_4': [344.0, 710.0]}, {'id': 12229701, 'name': 'google/hesokuri', 'response_time_avg': [336.75, 702.75], 'levels': [[0, 0, 0, 4], [0, 0, 0, 4]], 'quantile_0': [291.0, 657.0], 'quantile_1': [336.75, 702.75], 'quantile_2': [352.0, 718.0], 'quantile_3': [352.0, 718.0], 'quantile_4': [352.0, 718.0]}]\n"
     ]
    }
   ],
   "source": [
    "x,y = openDigger.metric.chaoss.chaossIssueAge(options, mode='origin')\n",
    "x,y = openDigger.metric.chaoss.chaossIssueAge(options)\n",
    "print(x)"
   ]
  },
  {
   "cell_type": "code",
   "execution_count": 14,
   "id": "8d656033",
   "metadata": {
    "vscode": {
     "languageId": "javascript"
    }
   },
   "outputs": [
    {
     "name": "stdout",
     "output_type": "stream",
     "text": [
      "[{'id': 27935901, 'name': 'google/bocado', 'response_time_avg': [360.0, 726.0], 'levels': [[0, 0, 0, 1], [0, 0, 0, 1]], 'quantile_0': [360.0, 726.0], 'quantile_1': [360.0, 726.0], 'quantile_2': [360.0, 726.0], 'quantile_3': [360.0, 726.0], 'quantile_4': [360.0, 726.0]}, {'id': 11430627, 'name': 'google/ansicolor-dart', 'response_time_avg': [345.0, 711.0], 'levels': [[0, 0, 0, 1], [0, 0, 0, 1]], 'quantile_0': [345.0, 711.0], 'quantile_1': [345.0, 711.0], 'quantile_2': [345.0, 711.0], 'quantile_3': [345.0, 711.0], 'quantile_4': [345.0, 711.0]}, {'id': 23153880, 'name': 'google/novm', 'response_time_avg': [337.67, 703.67], 'levels': [[0, 0, 0, 3], [0, 0, 0, 3]], 'quantile_0': [331.0, 697.0], 'quantile_1': [331.0, 697.0], 'quantile_2': [331.0, 697.0], 'quantile_3': [341.0, 707.0], 'quantile_4': [351.0, 717.0]}]\n"
     ]
    }
   ],
   "source": [
    "x,y = openDigger.metric.chaoss.chaossChangeRequestAge(options, mode='origin')\n",
    "x,y = openDigger.metric.chaoss.chaossChangeRequestAge(options)\n",
    "print(x)"
   ]
  },
  {
   "cell_type": "code",
   "execution_count": 15,
   "id": "827e74bd",
   "metadata": {
    "vscode": {
     "languageId": "javascript"
    }
   },
   "outputs": [
    {
     "name": "stdout",
     "output_type": "stream",
     "text": [
      "[{'id': 9304637, 'name': 'google/ggrc-core', 'total_count': 2084, 'count': [759, 1325], 'ratio': ['36.42%', '63.58%']}, {'id': 19249835, 'name': 'google/WebFundamentals', 'total_count': 1494, 'count': [596, 898], 'ratio': ['39.89%', '60.11%']}, {'id': 23357588, 'name': 'google/protobuf', 'total_count': 897, 'count': [389, 508], 'ratio': ['43.37%', '56.63%']}]\n"
     ]
    }
   ],
   "source": [
    "x,y = openDigger.metric.chaoss.chaossChangeRequestsAccepted(options, mode='origin')\n",
    "x,y = openDigger.metric.chaoss.chaossChangeRequestsAccepted(options)\n",
    "print(x)"
   ]
  },
  {
   "cell_type": "code",
   "execution_count": 16,
   "id": "54a17ea7",
   "metadata": {
    "vscode": {
     "languageId": "javascript"
    }
   },
   "outputs": [
    {
     "name": "stdout",
     "output_type": "stream",
     "text": [
      "[{'id': 18845024, 'name': 'google/closure-compiler', 'total_count': 269, 'count': [61, 208], 'ratio': ['22.68%', '77.32%']}, {'id': 9304637, 'name': 'google/ggrc-core', 'total_count': 236, 'count': [93, 143], 'ratio': ['39.41%', '60.59%']}, {'id': 23357588, 'name': 'google/protobuf', 'total_count': 206, 'count': [77, 129], 'ratio': ['37.38%', '62.62%']}]\n"
     ]
    }
   ],
   "source": [
    "x,y = openDigger.metric.chaoss.chaossChangeRequestsDeclined(options, mode='origin')\n",
    "x,y = openDigger.metric.chaoss.chaossChangeRequestsDeclined(options)\n",
    "print(x)"
   ]
  },
  {
   "cell_type": "code",
   "execution_count": 17,
   "id": "4aeace1f",
   "metadata": {
    "vscode": {
     "languageId": "javascript"
    }
   },
   "outputs": [
    {
     "name": "stdout",
     "output_type": "stream",
     "text": [
      "[{'id': 46391048, 'name': 'google/flatui', 'ratio': [0.0, 1.0], 'accepted_count': [0, 2], 'declined_count': [1, 0]}, {'id': 20900043, 'name': 'google/fruit', 'ratio': [1.0, 1.0], 'accepted_count': [1, 1], 'declined_count': [0, 0]}, {'id': 49025922, 'name': 'google/chained-promise', 'ratio': [0.0, 1.0], 'accepted_count': [0, 3], 'declined_count': [0, 0]}]\n"
     ]
    }
   ],
   "source": [
    "x,y = openDigger.metric.chaoss.chaossChangeRequestsAcceptanceRatio(options, mode='origin')\n",
    "x,y = openDigger.metric.chaoss.chaossChangeRequestsAcceptanceRatio(options)\n",
    "print(x)"
   ]
  },
  {
   "cell_type": "code",
   "execution_count": 18,
   "id": "1f6d1d00",
   "metadata": {
    "vscode": {
     "languageId": "javascript"
    }
   },
   "outputs": [
    {
     "name": "stdout",
     "output_type": "stream",
     "text": [
      "[{'id': 9304637, 'name': 'google/ggrc-core', 'total_count': 2320, 'count': [841, 1479], 'ratio': ['36.25%', '63.75%']}, {'id': 19249835, 'name': 'google/WebFundamentals', 'total_count': 1638, 'count': [653, 985], 'ratio': ['39.87%', '60.13%']}, {'id': 23357588, 'name': 'google/protobuf', 'total_count': 1225, 'count': [511, 714], 'ratio': ['41.71%', '58.29%']}]\n"
     ]
    }
   ],
   "source": [
    "x,y = openDigger.metric.chaoss.chaossChangeRequests(options, mode='origin')\n",
    "x,y = openDigger.metric.chaoss.chaossChangeRequests(options)\n",
    "print(x)"
   ]
  },
  {
   "cell_type": "code",
   "execution_count": 19,
   "id": "add724fc",
   "metadata": {
    "vscode": {
     "languageId": "javascript"
    }
   },
   "outputs": [
    {
     "name": "stdout",
     "output_type": "stream",
     "text": [
      "[{'id': 9304637, 'name': 'google/ggrc-core', 'total_count': 4089, 'count': [904, 3185], 'ratio': ['22.11%', '77.89%']}, {'id': 19249835, 'name': 'google/WebFundamentals', 'total_count': 2238, 'count': [357, 1881], 'ratio': ['15.95%', '84.05%']}, {'id': 14211461, 'name': 'google/oauth2client', 'total_count': 2524, 'count': [726, 1798], 'ratio': ['28.76%', '71.24%']}]\n"
     ]
    }
   ],
   "source": [
    "x,y = openDigger.metric.chaoss.chaossChangeRequestReviews(options, mode='origin')\n",
    "x,y = openDigger.metric.chaoss.chaossChangeRequestReviews(options)\n",
    "print(x)"
   ]
  },
  {
   "cell_type": "code",
   "execution_count": 20,
   "id": "ab85330f",
   "metadata": {
    "vscode": {
     "languageId": "javascript"
    }
   },
   "outputs": [
    {
     "name": "stdout",
     "output_type": "stream",
     "text": [
      "[{'id': 23357588, 'name': 'google/protobuf', 'new_contributors': [79, 120], 'detail': [['matthewvalimaki', 'redivo', 'nsuke', 'c0nk', 'DouglasHeriot', 'anandolee', 'brianduff', 'isaiah', 'earhart', 'skippy', 'TeBoring', 'tseaver', 'rgarat', 'cfallin', 'tkarls', 'yukawa', 'benbennett', 'lberki', 'ennerf', 'rgeary1', 'numberten', '0xAAE', 'Zex', 'dougkwan', 'martinmaly', 'girving', 'randomascii', 'gordana-cmiljanovic-imgtec', 'ostrovsky', 'matthew-wu', 'dano', 'pkasting', 'fizbin', 'haberman', 'martiert', 'rinatz', 'Sahloul', 'podsvirov', 'tamird', 'dlh3', 'kbinani', 'btabibian', 'murgatroid99', 'cconroy', 'cnauroth', 'jcanizales', 'jtattermusch', 'thomasvl', 'andrewharp', 'bsilver8192', 'pherl', 'ensonic', 'bakineggs', 'ezegomez', 'bbarenblat', 'zmodem', 'mzhaom', 'jhump', 'oon3m0oo', 'AustinSchuh', 'mgiuca', 'kentonv', 'jskeet', 'xfxyjwf', 'Qartar', 'ned14', 'zsurocking', 'keveman', 'thughes', 'leif81', 'litinglin', 'Yangqing', 'damienmg', 'sainaetr', 'cijianzy', 'nico', 'zhangkun83', 'gabikliot', 'tswast'], ['cwelton', 'kilink', 'calbach', 'bryongloden', 'hochhaus', 'Photonios', 'ianfhunter', 'KindDragon', 'tetek', 'legrosbuffle', 'PiotrSikora', 'ngg', 'davidzchen', 'lizan', 'acozzette', 'topillar', 'camillol', 'dnkoutso', 'ottok', 'mrry', 'peternewman', 'chih-hung', 'jeffmvr', 'tsondergaard', 'wychen', 'mike07026', 'tatraian', 'khingblue', 'manupsunny', 'cwhipkey', 'dkharrat', 'allevato', 'ejsd1989', 'nicolasnoble', 'esteluk', 'vjpai', 'anderscarling', 'pstavirs', 'ozkuran', 'avgweb', 'adrianludwin', 'lokeshkarguwal', 'xyzzyz', 'motahan', 'wujingchao', 'fweikert', 'marcinwyszynski', 'geoffreywiseman', 'lebauce', 'rshin', 'yeswalrus', 'ckennelly', 'mbarbon', 'snapsam', 'yugui', 'gegles', 'stanley-cheung', 'D3Hunter', 'JasonLunn', 'adamatan', 'ParthKolekar', 'sergei-ivanov', 'mavrukin', 'vladmos', 'the-alien', 'bshaffer', 'pradeepg26', 'zhongfq', 'jkukul', 'pongad', 'cgrushko', 'eeight', 'guptasu', 'gkraynov', 'smparkes', 'gturri', 'seishun', 'zhsyourai', 'NicklasWallgren', 'dongjoon-hyun', 'craigcitro', 'sergiocampama', 'lukebakken', 'mathstuf', 'Kwizatz', 'sinzianag', 'gitplaneta', 'jonathon-love', 'beardedN5rd', 'gvaish', 'chezRong', 'qzix', 'kkm000', 'wiktortomczak', 'saintstack', 'jonwallg', 'udnaan', 'tomas-abrahamsson', 'ramrunner', 'frett', 'ctubbsii', 'mark-whiting', 'os72', 'sheffatguidance', 'brian-peloton', 'jcburke14', 'dprotaso', 'abscondment', 'petewarden', 'hotpxl', 'jbrianceau', 'benvanik', 'zlim', 'nmittler', 'detlevschwabe', 'guoxiao', 'jhickson', 'silviulica', 'dago', 'abergmeier-dsfishlabs']], 'total_new_contributors': 199}, {'id': 19249835, 'name': 'google/WebFundamentals', 'new_contributors': [77, 104], 'detail': [['PontusHorn', 'addyosmani', 'ajmalafif', 'imagentleman', 'greenido', 'vicky002', 'muereb', 'HenriqueLimas', 'andismith', 'samdutton', 'jacquerie', 'zenorocha', 'dgash', 'jpmedley', 'mathiasbynens', 'kenchris', 'flaiker', 'Meggin', 'arthurevans', 'jrbasso', 'beaufortfrancois', 'pbakaus', 'yuzver', 'davidshq', 'fantompower', 'gauntface', 'AliMD', 'x1ddos', 'rollinsp', 'surma', 'srus', 'ebidel', 'cwdoh', 'ahoef', 'evgenTraytyak', 'paullewis', 'npcode', 'hver', 'madmath', 'arthurvr', 'kaycebasques', 'alettieri', 'cpeterso', 'umaar', 'jschertz', 'Garbee', 'simongong', 'ianbarber', 'gaelb', 'jyasskin', 'vitorinoaraujo', 'chenxsan', 'sroucheray', 'samthor', 'montogeek', 'brianmontana', 'PaulKinlan', 'jeffposnick', 'robdodson', 'shields', 'ymschaap', 'rupl', 'wibblymat', 'flaviocopes', 'petele', 'Sitebase', 'jakearchibald', 'mikewest', 'kokoc', 'denpatin', 'SuriyaaKudoIsc', 'fokusferit', 'tjsavage', 'igrigorik', 'benhjt', 'johyphenel', 'yufengg'], ['juncaidf', 'CoderK', 'bokand', 'davidfurlong', 'jadjoubran', 'nhantdn', 'tachk', 'shaunwarman', 'stilliard', 'rmacklin', 'jajodiaraghav', 'neonray', 'cwilso', 'timothyarmstrong', 'gidztech', 'dandv', 'razzius', 'DavidScales', 'cvrebert', 'mininao', 'philipwalton', 'ericlaw1979', 'Rchristiani', 'shanayres', 'tomayac', 'mustafa-x', 'ElijahLynn', 'arnaslu', 'adanilo', 'pra85', 'yangshun', 'quelledanielle', 'sgomes', 'SungwonKim', 'donaldspencer', 'shidhincr', 'YarmoM', 'Devinsuit', 'Gornstats', 'KenjiBaheux', 'wy-ei', 'kubosho', 'amedina', 'jitendravyas', 'reaktivo', 'domenic', 'chrishtr', 'LeoCp', 'travellingprog', 'yoichiro', 'mjohnsullivan', 'RByers', 'bobvanluijt', 'mendaomn', 'stevemao', 'eligrey', 'ricbit', 'rwaldron', 'patrickhlauke', 'oguzzkilic', 'naomiblack', 'joshua1988', 'Rade333', 'ithinkihaveacat', 'c-stone', 'awerlang', 'marcacohen', 'wesleysmyth', 'abdshomad', 'tadeegan', '1000ch', 'phistuck', 'drets', 'fabrik42', 'javichito', 'thedeerchild', 'dalmaer', 'robd', 'sotayamashita', 'sonicblis', 'AlanCezarAraujo', 'mattzeunert', 'mychaelgo', 'yogurito', 'i-am-anand', 'myakura', 'annamalai-saro', 'morrisonbrett', 'Brantron', 'lgarron', 'maxklenk', 'madroneropaulo', 'kdzwinel', 'tarungarg546', 'oldergod', 'agektmr', 'limhenry', 'robnyman', 'jmadler', 'Servuc', 'teachtyler', 'gotik', 'patrickkettner', 'smitthakkar']], 'total_new_contributors': 181}, {'id': 19953044, 'name': 'google/flatbuffers', 'new_contributors': [37, 69], 'detail': [['Jiboo', 'cogumbreiro', 'RevenantX', 'zulli73', 'belldon', 'teemuandersen', 'evanw', 'proppy', 'rubber-duck', 'amoldeshpande', 'prideout', 'mormegil-cz', 'layzerar', 'alexames', 'rw', 'pjulien', 'martell', 'mnmtanish', 'chobie', 'chrisstaite', 'aeneid', 'AaronCritchley', 'FrankStain', 'vijairaj', 'ncpenke', 'zachreizner', 'brunoqc', 'jesta88', 'evolutional', 'takaken1994', 'stewartmiles', 'belm0', 'tguo-aa', 'armen', 'mfcollins3', 'iperry', 'jonsimantov'], ['kazimuth', 'devantoine', 'blep', 'jonathantullett', 'faizanrashid', 'senior7515', 'michaelbpaulson', 'gonzaloserrano', 'mikkelfj', 'manolama', 'kimsin3003', 'zarianw', 'YuryBandarchuk16', 'Mischanix', 'Nnamdi', 'changnet', 'LouisCAD', 'CarsarSky', 'mortonfox', 'dreifachstein', 'alex-napofearth', 'jaakristioja', 'splhack', 'ricardoquesada', 'Lakedaemon', 'gitter-badger', 'krupnov', 'ankurdave', 'sahiljain', 'escholtz', 'Bklyn', 'ahundt', 'aardappel', 'msb-at-yahoo', 'vitalyisaev2', 'cage433', 'bhamiltoncx', 'Chippiewill', 'albertofem', 'love-ginger', 'benssson', 'phraemer', 'martinus', 'garretmcgraw', 'JRonak', 'cajun-rat', 'TGIshib', 'daksenik', 'parnic', 'mmastrac', 'franc0is', 'rushabhy', 'bog-dan-ro', 'ozkuran', 'tkelman', '0x1997', 'Mandar-Shinde', 'akazakov', 'yakiro', 'artiom', 'klapek', 'yurivict', 'mogemimi', 'fichter', 'danring', 'rgilles', 'paszea', 'jbrads', 'royalharsh']], 'total_new_contributors': 106}]\n"
     ]
    }
   ],
   "source": [
    "x,y = openDigger.metric.chaoss.chaossNewContributors(options, mode='origin')\n",
    "x,y = openDigger.metric.chaoss.chaossNewContributors(options)\n",
    "print(x)"
   ]
  },
  {
   "cell_type": "code",
   "execution_count": 21,
   "id": "8988d8e2",
   "metadata": {
    "vscode": {
     "languageId": "javascript"
    }
   },
   "outputs": [
    {
     "name": "stdout",
     "output_type": "stream",
     "text": [
      "[{'id': 23357588, 'name': 'google/protobuf', 'inactive_contributors': [25, 114], 'detail': [['Zex', 'cfallin', 'ned14', 'gordana-cmiljanovic-imgtec', 'martiert', 'murgatroid99', 'numberten', 'zhangkun83', 'isaiah', 'cnauroth', 'ensonic', 'ennerf', 'ezegomez', 'fizbin', 'cconroy', 'kentonv', 'mgiuca', 'Qartar', 'skippy', 'rgeary1', 'brianduff', 'rgarat', 'bakineggs', 'btabibian', 'nsuke'], ['vjpai', 'tamird', 'mzhaom', 'dougkwan', 'rinatz', 'ennerf', 'tswast', 'isaiah', 'tatraian', 'jhump', 'sainaetr', 'jkukul', 'gabikliot', 'benvanik', 'jonwallg', 'dano', 'matthew-wu', 'redivo', 'andrewharp', 'earhart', 'kkm000', 'litinglin', 'cnauroth', 'anderscarling', 'leif81', 'mgiuca', 'kentonv', 'kbinani', 'beardedN5rd', 'c0nk', 'Sahloul', 'gkraynov', 'btabibian', 'nico', 'ParthKolekar', '0xAAE', 'lberki', 'motahan', 'gvaish', 'DouglasHeriot', 'thughes', 'gordana-cmiljanovic-imgtec', 'dlh3', 'ensonic', 'martinmaly', 'fizbin', 'mathstuf', 'skippy', 'dnkoutso', 'zmodem', 'ostrovsky', 'silviulica', 'anandolee', 'ezegomez', 'girving', 'brianduff', 'pradeepg26', 'keveman', 'Yangqing', 'nsuke', 'bbarenblat', 'cwhipkey', 'AustinSchuh', 'benbennett', 'gitplaneta', 'randomascii', 'martiert', 'damienmg', 'murgatroid99', 'geoffreywiseman', 'cconroy', 'Zex', 'calbach', 'Qartar', 'rgarat', 'detlevschwabe', 'tseaver', 'bsilver8192', 'brian-peloton', 'the-alien', 'ozkuran', 'craigcitro', 'jcburke14', 'oon3m0oo', 'os72', 'numberten', 'topillar', 'dongjoon-hyun', 'bakineggs', 'qzix', 'peternewman', 'rgeary1', 'Photonios', 'ned14', 'avgweb', 'bshaffer', 'ejsd1989', 'zsurocking', 'zhangkun83', 'cfallin', 'zhongfq', 'tkarls', 'esteluk', 'matthewvalimaki', 'jeffmvr', 'eeight', 'smparkes', 'allevato', 'yukawa', 'petewarden', 'pkasting', 'lebauce', 'davidzchen', 'cijianzy']]}, {'id': 19249835, 'name': 'google/WebFundamentals', 'inactive_contributors': [28, 97], 'detail': [['simongong', 'PontusHorn', 'fantompower', 'mikewest', 'madmath', 'arthurvr', 'jacquerie', 'robdodson', 'yuzver', 'evgenTraytyak', 'gaelb', 'HenriqueLimas', 'fokusferit', 'srus', 'brianmontana', 'Garbee', 'flaviocopes', 'denpatin', 'Sitebase', 'ianbarber', 'sroucheray', 'tjsavage', 'surma', 'kokoc', 'flaiker', 'andismith', 'yufengg', 'davidshq'], ['Brantron', 'i-am-anand', 'yuzver', 'zenorocha', 'tjsavage', 'SuriyaaKudoIsc', 'flaiker', 'ricbit', 'yufengg', 'andismith', 'jacquerie', 'pbakaus', 'madmath', 'HenriqueLimas', 'hver', 'mininao', 'shields', 'chenxsan', 'johyphenel', 'jitendravyas', 'vicky002', 'gaelb', 'phistuck', 'Rchristiani', 'timothyarmstrong', 'wibblymat', 'PontusHorn', 'evgenTraytyak', 'denpatin', 'brianmontana', 'pra85', 'robd', 'benhjt', 'bobvanluijt', 'rwaldron', 'dalmaer', 'quelledanielle', 'mattzeunert', 'sroucheray', 'yoichiro', 'thedeerchild', 'alettieri', 'shaunwarman', 'greenido', 'muereb', 'ajmalafif', 'srus', 'rollinsp', 'jmadler', 'CoderK', 'AliMD', 'cwdoh', 'wesleysmyth', 'cpeterso', 'oguzzkilic', 'Sitebase', 'ymschaap', 'travellingprog', 'jyasskin', 'rmacklin', 'jschertz', 'javichito', 'kenchris', 'ahoef', 'YarmoM', 'simongong', 'igrigorik', 'eligrey', 'flaviocopes', 'gidztech', 'dgash', 'tarungarg546', 'stevemao', 'RByers', 'mikewest', 'fabrik42', 'arthurvr', 'jrbasso', 'fantompower', 'adanilo', 'patrickkettner', 'montogeek', 'davidshq', 'tachk', 'kdzwinel', 'ianbarber', 'madroneropaulo', 'umaar', 'kubosho', 'annamalai-saro', 'imagentleman', 'neonray', 'kokoc', 'npcode', 'teachtyler', 'fokusferit', 'rupl']]}, {'id': 29268051, 'name': 'google/material-design-lite', 'inactive_contributors': [0, 83], 'detail': [[], ['HenriqueLimas', 'DanTup', 'jonathanp', 'JacobDorman', 'dopic', 'JoseAlcerreca', 'KeizerDev', 'tleunen', 'marekjalovec', 'rundef', 'Sesta', 'jirkadanek', 'gs-akhan', 'cliffordp', 'reel', 'yuyokk', 'koddsson', 'herschel666', 'MightyBranch', 'oddui', 'codeandrop', 'AliMD', 'katranci', 'Zodiase', 'eduardoboucas', 'yourivdlans', 'mustafa-x', 'skvale', 'joemidi', 'The4thLaw', 'TristanWiley', 'rogerhu', 'crazytonyi', 'alitas', 'jorrit', 'cvrebert', 'alexbel', 'paulirish', 'listepo', 'posva', 'samccone', 'Gheoan', 'WaverleyDesign', 'kentya6', 'surma', 'andismith', 'mateuspv', 'Rahul-Sagore', 'djalmaaraujo', 'Billiam', 'mspl13', 'rohanthacker', 'andyyou', 'andreasonny83', 'marcacohen', 'deuxcents', 'b-kelly', 'cainmi', 'xdissent', 'faergeek', 'nicolasgarnier', 'hebbet', 'SeanBannister', 'gauntface', 'narendrashetty', 'passy', 'sad270', 'olegt-indicee', 'afonsopacifer', 'mweimerskirch', 'rafaelstz', 'samthor', 'jonathanprehn', 'tschiela', 'maguowei', 'hobbyquaker', 'jelbourn', 'epeay', 'Ninir', 'sindresorhus', 'juristr', 'mariusbutuc', 'addyosmani']]}]\n"
     ]
    }
   ],
   "source": [
    "x,y = openDigger.metric.chaoss.chaossInactiveContributors(options, mode='origin')\n",
    "x,y = openDigger.metric.chaoss.chaossInactiveContributors(options)\n",
    "print(x)"
   ]
  },
  {
   "cell_type": "code",
   "execution_count": 22,
   "id": "9bab7257",
   "metadata": {
    "vscode": {
     "languageId": "javascript"
    }
   },
   "outputs": [
    {
     "name": "stdout",
     "output_type": "stream",
     "text": [
      "[{'id': 29268051, 'name': 'google/material-design-lite', 'count': [[55, 77, 85, 85, 99, 67, 104, 138, 196, 168, 223, 182, 243, 281, 234, 338, 317, 410, 435, 387, 399, 325, 261, 207, 223, 276, 311, 278, 252, 309, 334, 390, 401, 405, 443, 494, 447, 521, 606, 443, 453, 470, 286, 255, 275, 189, 165, 158, 157, 186, 202, 192, 173, 204, 221, 257, 290, 274, 341, 315, 299, 382, 391, 631, 301, 246, 197, 179, 169, 163, 177, 137, 118, 198, 162, 123, 98, 125, 146, 158, 178, 238, 174, 225, 272, 272, 256, 254, 188, 147, 182, 131, 183, 125, 117, 86, 73, 127, 96, 82, 78, 85, 105, 131, 164, 180, 133, 172, 207, 222, 259, 231, 199, 161, 123, 122, 101, 84, 86, 58, 50, 44, 56, 48, 74, 69, 61, 51, 65, 54, 57, 97, 97, 73, 99, 109, 76, 84, 99, 86, 72, 60, 58, 56, 83, 58, 56, 55, 45, 40, 66, 81, 80, 65, 58, 99, 78, 98, 107, 96, 84, 81, 114, 78, 104, 77, 86, 73], [57, 67, 74, 86, 62, 68, 70, 90, 135, 111, 129, 208, 206, 183, 180, 237, 255, 173, 135, 195, 159, 149, 112, 76, 68, 75, 109, 85, 72, 81, 83, 90, 136, 119, 164, 171, 155, 245, 268, 272, 261, 142, 131, 116, 278, 177, 102, 75, 70, 99, 86, 85, 61, 81, 121, 117, 114, 164, 155, 174, 177, 192, 408, 491, 330, 181, 327, 204, 128, 112, 70, 92, 70, 103, 104, 85, 67, 78, 88, 118, 123, 143, 153, 200, 169, 227, 364, 233, 243, 298, 181, 126, 124, 120, 95, 89, 89, 74, 104, 85, 54, 76, 103, 93, 112, 137, 150, 138, 200, 202, 224, 235, 290, 178, 156, 257, 135, 87, 85, 55, 52, 66, 66, 65, 60, 48, 69, 59, 72, 57, 65, 58, 85, 78, 92, 92, 100, 79, 64, 63, 51, 53, 56, 50, 46, 45, 54, 63, 52, 46, 52, 60, 57, 64, 73, 107, 75, 75, 76, 86, 92, 83, 103, 62, 71, 43, 57, 53]]}, {'id': 58034548, 'name': 'google/flexbox-layout', 'count': [[], [50, 182, 185, 125, 82, 122, 152, 150, 141, 95, 65, 68, 52, 52, 53, 40, 41, 28, 24, 18, 13, 25, 20, 22, 34, 97, 108, 78, 65, 70, 101, 109, 130, 95, 75, 24, 42, 56, 48, 51, 37, 23, 8, 14, 15, 16, 17, 17, 34, 73, 86, 50, 46, 60, 95, 89, 89, 88, 55, 57, 36, 37, 24, 18, 22, 17, 7, 10, 11, 8, 7, 6, 11, 51, 68, 47, 17, 44, 64, 76, 60, 61, 40, 28, 36, 28, 21, 17, 15, 12, 8, 4, 6, 8, 5, 7, 12, 29, 36, 60, 36, 66, 57, 55, 39, 61, 37, 26, 27, 41, 39, 39, 49, 38, 31, 57, 56, 55, 47, 36, 33, 41, 72, 60, 69, 39, 47, 45, 44, 39, 42, 40, 48, 53, 43, 38, 44, 25, 14, 21, 20, 12, 11, 6, 22, 15, 37, 24, 23, 33, 25, 24, 29, 20, 33, 37, 22, 25, 37, 33, 37, 25, 19, 21, 24, 39, 13, 10]]}, {'id': 47389445, 'name': 'google/seesaw', 'count': [[0, 0, 0, 1, 0, 0, 0, 0, 0, 0, 0, 0, 0, 0, 0, 0, 1, 0, 0, 0, 0, 0, 0, 0, 0, 0, 0, 0, 1, 0, 0, 0, 0, 0, 0, 0, 0, 0, 0, 0, 0, 0, 0, 0, 0, 0, 0, 0, 0, 0, 0, 0, 0, 2, 3, 0, 0, 0, 0, 0, 0, 1, 1, 0, 0, 0, 0, 0, 0, 0, 0, 0, 0, 0, 0, 0, 0, 0, 0, 0, 0, 0, 0, 0, 0, 0, 0, 0, 0, 0, 0, 0, 0, 0, 0, 0, 0, 0, 0, 0, 0, 0, 0, 3, 0, 0, 0, 0, 0, 0, 0, 0, 0, 0, 0, 0, 0, 0, 0, 0, 0, 0, 0, 0, 0, 0, 0, 0, 0, 0, 0, 0, 0, 0, 0, 0, 0, 0, 0, 0, 0, 0, 0, 0, 0, 0, 0, 0, 0, 0, 0, 0, 0, 0, 0, 0, 0, 0, 0, 0, 0, 0, 0, 0, 1, 0, 0, 0], [45, 76, 88, 60, 60, 66, 43, 43, 35, 51, 26, 29, 33, 33, 40, 28, 27, 27, 22, 11, 15, 12, 16, 10, 32, 42, 41, 29, 20, 42, 30, 27, 31, 31, 23, 20, 17, 29, 20, 25, 17, 13, 12, 14, 13, 8, 6, 7, 14, 27, 27, 33, 26, 19, 31, 34, 16, 20, 13, 11, 8, 20, 23, 15, 16, 12, 9, 5, 10, 4, 6, 2, 10, 9, 24, 31, 8, 21, 19, 17, 17, 18, 14, 12, 13, 14, 19, 15, 4, 4, 1, 11, 7, 13, 4, 7, 8, 18, 16, 13, 14, 7, 11, 12, 21, 22, 10, 9, 12, 16, 6, 15, 9, 5, 10, 18, 37, 29, 31, 27, 22, 33, 25, 41, 25, 32, 36, 36, 22, 29, 25, 22, 24, 24, 40, 31, 45, 135, 126, 103, 71, 63, 52, 39, 62, 65, 74, 50, 55, 68, 50, 40, 51, 53, 45, 27, 44, 48, 47, 48, 65, 38, 36, 28, 34, 18, 20, 19]]}]\n"
     ]
    }
   ],
   "source": [
    "x,y = openDigger.metric.chaoss.chaossRepoActiveDatesAndTimes(options, mode='origin')\n",
    "x,y = openDigger.metric.chaoss.chaossRepoActiveDatesAndTimes(options)\n",
    "print(x)"
   ]
  }
 ],
 "metadata": {
  "kernelspec": {
   "display_name": "base",
   "language": "python",
   "name": "python3"
  },
  "language_info": {
   "codemirror_mode": {
    "name": "ipython",
    "version": 3
   },
   "file_extension": ".py",
   "mimetype": "text/x-python",
   "name": "python",
   "nbconvert_exporter": "python",
   "pygments_lexer": "ipython3",
   "version": "3.9.16"
  }
 },
 "nbformat": 4,
 "nbformat_minor": 5
}
